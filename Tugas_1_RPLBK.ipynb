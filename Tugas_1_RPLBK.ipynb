{
  "nbformat": 4,
  "nbformat_minor": 0,
  "metadata": {
    "colab": {
      "provenance": [],
      "authorship_tag": "ABX9TyN2ONokxNt9XA3jiFyKl8Tb",
      "include_colab_link": true
    },
    "kernelspec": {
      "name": "python3",
      "display_name": "Python 3"
    },
    "language_info": {
      "name": "python"
    }
  },
  "cells": [
    {
      "cell_type": "markdown",
      "metadata": {
        "id": "view-in-github",
        "colab_type": "text"
      },
      "source": [
        "<a href=\"https://colab.research.google.com/github/Louisdvidvrgestrg/Tugas-RPLBK-1/blob/main/Tugas_1_RPLBK.ipynb\" target=\"_parent\"><img src=\"https://colab.research.google.com/assets/colab-badge.svg\" alt=\"Open In Colab\"/></a>"
      ]
    },
    {
      "cell_type": "code",
      "execution_count": 2,
      "metadata": {
        "colab": {
          "base_uri": "https://localhost:8080/"
        },
        "id": "AUDUzzOvCp7R",
        "outputId": "355c8b92-1b1e-4925-dbad-d84a007db2f6"
      },
      "outputs": [
        {
          "output_type": "stream",
          "name": "stdout",
          "text": [
            "Saving Louis David Verges Tarigan to database.\n",
            "Printing report for Louis David Verges Tarigan, position: Engginer\n"
          ]
        }
      ],
      "source": [
        "# Interface untuk Database\n",
        "from abc import ABC, abstractmethod\n",
        "\n",
        "class Database(ABC):\n",
        "    @abstractmethod\n",
        "    def save_to_database(self, employee):\n",
        "        pass\n",
        "\n",
        "# Implementasi kelas Employee\n",
        "class Employee:\n",
        "    def __init__(self, name, position):\n",
        "        self.name = name\n",
        "        self.position = position\n",
        "\n",
        "# Implementasi dari interface Database\n",
        "class EmployeeDatabase(Database):\n",
        "    def save_to_database(self, employee):\n",
        "        print(f\"Saving {employee.name} to database.\")\n",
        "\n",
        "# Interface untuk Report\n",
        "class Report(ABC):\n",
        "    @abstractmethod\n",
        "    def print_report(self, employee):\n",
        "        pass\n",
        "\n",
        "# Implementasi dari interface Report\n",
        "class EmployeeReport(Report):\n",
        "    def print_report(self, employee):\n",
        "        print(f\"Printing report for {employee.name}, position: {employee.position}\")\n",
        "\n",
        "# Menggunakan kelas-kelas terpisah dengan dependensi pada abstraksi\n",
        "employee = Employee(\"Louis David Verges Tarigan\", \"\")\n",
        "db = EmployeeDatabase()\n",
        "report = EmployeeReport()\n",
        "\n",
        "db.save_to_database(employee)\n",
        "report.print_report(employee)\n"
      ]
    }
  ]
}